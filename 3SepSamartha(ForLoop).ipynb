{
 "cells": [
  {
   "cell_type": "code",
   "execution_count": null,
   "id": "e1033759-9c1e-4c15-89b7-d56cfa949ac5",
   "metadata": {},
   "outputs": [],
   "source": [
    "                         # Control Flow"
   ]
  },
  {
   "cell_type": "code",
   "execution_count": null,
   "id": "9af84507-f580-41d8-a7b9-d62037e061ef",
   "metadata": {},
   "outputs": [],
   "source": [
    "# Basic Level:"
   ]
  },
  {
   "cell_type": "code",
   "execution_count": 2,
   "id": "b1c7040c-7e71-4650-97e2-a60fb050f11d",
   "metadata": {},
   "outputs": [
    {
     "name": "stdout",
     "output_type": "stream",
     "text": [
      "1\n",
      "2\n",
      "3\n",
      "4\n",
      "5\n",
      "6\n",
      "7\n",
      "8\n",
      "9\n",
      "10\n"
     ]
    }
   ],
   "source": [
    "'''1. Write a Python program to print the numbers from 1 to 10 using a `for` loop.'''\n",
    "\n",
    "#code\n",
    "for i in range(1,11):\n",
    "    print(i)"
   ]
  },
  {
   "cell_type": "code",
   "execution_count": 3,
   "id": "b242b298-4e55-4e61-bb5b-4f67d778f102",
   "metadata": {},
   "outputs": [
    {
     "name": "stdout",
     "output_type": "stream",
     "text": [
      "Sum of all elements in given list:  74\n"
     ]
    }
   ],
   "source": [
    "'''2. Create a program that calculates the sum of all numbers in a list using a `for` loop.'''\n",
    "\n",
    "#code\n",
    "total = 0 \n",
    "# creating a list\n",
    "list1 = [11, 5, 17, 18, 23]\n",
    "for ele in range(0, len(list1)):\n",
    "    total = total + list1[ele]\n",
    "print(\"Sum of all elements in given list: \", total)"
   ]
  },
  {
   "cell_type": "code",
   "execution_count": 5,
   "id": "a8e2f51d-8826-4728-a161-b9a9b7515a3b",
   "metadata": {},
   "outputs": [
    {
     "name": "stdout",
     "output_type": "stream",
     "text": [
      "The original string is : Pwskills\n",
      "The reversed string(using loops) is : sllikswP\n"
     ]
    }
   ],
   "source": [
    "'''3. Write a program to print the characters of a string in reverse order using a `for` loop.'''\n",
    "\n",
    "#code\n",
    "def reverse(s):\n",
    "    str = \"\"\n",
    "    for i in s:\n",
    "        str = i + str\n",
    "    return str \n",
    "s = \"Pwskills\" \n",
    "print(\"The original string is : \", end=\"\")\n",
    "print(s)\n",
    "print(\"The reversed string(using loops) is : \", end=\"\")\n",
    "print(reverse(s))"
   ]
  },
  {
   "cell_type": "code",
   "execution_count": 6,
   "id": "477d254e-4738-408a-adc0-fb813226ebc8",
   "metadata": {},
   "outputs": [
    {
     "name": "stdin",
     "output_type": "stream",
     "text": [
      "Enter a number:  5\n"
     ]
    },
    {
     "name": "stdout",
     "output_type": "stream",
     "text": [
      "Factorial of the given number is:  120\n"
     ]
    }
   ],
   "source": [
    "'''4. Develop a program that finds the factorial of a given number using a `for` loop.'''\n",
    "\n",
    "#code\n",
    "n = int (input (\"Enter a number: \"))\n",
    "factorial = 1\n",
    "if n >= 1:\n",
    "    for i in range (1, n+1):\n",
    "        factorial=factorial *i\n",
    "print(\"Factorial of the given number is: \", factorial)"
   ]
  },
  {
   "cell_type": "code",
   "execution_count": 7,
   "id": "ab8c7d87-fa65-44fa-a3ca-7b557bc1e530",
   "metadata": {},
   "outputs": [
    {
     "name": "stdout",
     "output_type": "stream",
     "text": [
      "1 2 3 4 5 \n",
      "2 4 6 8 10 \n",
      "3 6 9 12 15 \n",
      "4 8 12 16 20 \n",
      "5 10 15 20 25 \n"
     ]
    }
   ],
   "source": [
    "'''5. Create a program to print the multiplication table of a given number using a `for` loop.'''\n",
    "\n",
    "#code\n",
    "for i in range(1,6):\n",
    "    for j in range(1,6):\n",
    "        print(i*j, end=' ')\n",
    "    print()  "
   ]
  },
  {
   "cell_type": "code",
   "execution_count": 8,
   "id": "f9c3addd-06ef-4248-bfff-8853ffaf78af",
   "metadata": {},
   "outputs": [
    {
     "name": "stdout",
     "output_type": "stream",
     "text": [
      "Even numbers in the list:  3\n",
      "Odd numbers in the list:  4\n"
     ]
    }
   ],
   "source": [
    "'''6. Write a program that counts the number of even and odd numbers in a list using a `for` loop.'''\n",
    "\n",
    "#code\n",
    "list1 = [10, 21, 4, 45, 66, 93, 1]\n",
    "even_count, odd_count = 0, 0\n",
    "# iterating each number in list\n",
    "for num in list1:\n",
    "# checking condition\n",
    "    if num % 2 == 0:\n",
    "        even_count += 1\n",
    "    else:\n",
    "        odd_count += 1\n",
    "print(\"Even numbers in the list: \", even_count)\n",
    "print(\"Odd numbers in the list: \", odd_count)"
   ]
  },
  {
   "cell_type": "code",
   "execution_count": 14,
   "id": "0d975292-eee9-4dde-b064-68199b21e072",
   "metadata": {},
   "outputs": [
    {
     "name": "stdout",
     "output_type": "stream",
     "text": [
      "1\n",
      "4\n",
      "9\n",
      "16\n",
      "25\n"
     ]
    }
   ],
   "source": [
    "'''7. Develop a program that prints the squares of numbers from 1 to 5 using a `for` loop.'''\n",
    "\n",
    "#code\n",
    "for i in range(1,6):\n",
    "    print(i*i)         "
   ]
  },
  {
   "cell_type": "code",
   "execution_count": 16,
   "id": "58b5e5f2-b4fa-41d6-9dcb-a772fb4865de",
   "metadata": {},
   "outputs": [
    {
     "name": "stdout",
     "output_type": "stream",
     "text": [
      "8\n"
     ]
    }
   ],
   "source": [
    "'''8. Create a program to find the length of a string without using the `len()` function.'''\n",
    "\n",
    "#code\n",
    "string = 'Samartha'\n",
    "count = 0\n",
    "for i in string:\n",
    "    count+=1\n",
    "print(count)"
   ]
  },
  {
   "cell_type": "code",
   "execution_count": 20,
   "id": "1219b4da-9172-4ea4-8547-09989deb76a8",
   "metadata": {},
   "outputs": [
    {
     "name": "stdout",
     "output_type": "stream",
     "text": [
      "Average of given string: 10.0\n"
     ]
    }
   ],
   "source": [
    "'''9. Write a program that calculates the average of a list of numbers using a `for` loop.'''\n",
    "\n",
    "#code\n",
    "total = 0\n",
    "l2=[10,20,30,40,50]\n",
    "for n in range(0,len(l2)):\n",
    "     average = total + l2[n]/5\n",
    "print(\"Average of given string:\", average)"
   ]
  },
  {
   "cell_type": "code",
   "execution_count": 21,
   "id": "55fde640-e4b2-4d0c-874b-371d1b9b5787",
   "metadata": {},
   "outputs": [
    {
     "name": "stdin",
     "output_type": "stream",
     "text": [
      "Enter the number of terms:  8\n"
     ]
    },
    {
     "name": "stdout",
     "output_type": "stream",
     "text": [
      "0 1 1 2 3 5 8 13 "
     ]
    }
   ],
   "source": [
    "'''10. Develop a program that prints the first `n` Fibonacci numbers using a `for` loop.'''\n",
    "\n",
    "'''Fibonacci series is a sequence of numbers where each number is the sum of \n",
    "the previous two consecutive numbers. The series begins with 0 and 1.'''\n",
    "\n",
    "\n",
    "#code\n",
    "n=int(input(\"Enter the number of terms: \"))\n",
    "a=0 \n",
    "b=1 \n",
    "if n<=0:\n",
    "    print(\"The Output of your input is\",a)\n",
    "else:\n",
    "    print(a,b,end=\" \")\n",
    "    for x in range(2,n):\n",
    "        c=a+b\n",
    "        print(c,end=\" \")\n",
    "        a=b\n",
    "        b=c"
   ]
  },
  {
   "cell_type": "code",
   "execution_count": null,
   "id": "1578cc4d-552c-46e2-be43-0b120af72c56",
   "metadata": {},
   "outputs": [],
   "source": []
  },
  {
   "cell_type": "code",
   "execution_count": null,
   "id": "99bb7aa8-8dd6-4cd1-b5f5-c3405ef00149",
   "metadata": {},
   "outputs": [],
   "source": [
    "# Intermediate Level:"
   ]
  },
  {
   "cell_type": "code",
   "execution_count": 22,
   "id": "8ed4317f-1981-4afc-912d-f4e59e517302",
   "metadata": {},
   "outputs": [
    {
     "name": "stdout",
     "output_type": "stream",
     "text": [
      "[1, 2, 5, 9]\n"
     ]
    }
   ],
   "source": [
    "'''11. Write a program to check if a given list contains any duplicates using a `for` loop.'''\n",
    "\n",
    "#code\n",
    "l3 = [1, 2, 1, 2, 3, 4, 5, 1, 1, 2, 5, 6, 7, 8, 9, 9]\n",
    "uniqueList = []\n",
    "duplicateList = []\n",
    "for i in l3:\n",
    "    if i not in uniqueList:\n",
    "        uniqueList.append(i)\n",
    "    elif i not in duplicateList:\n",
    "        duplicateList.append(i)\n",
    "print(duplicateList)"
   ]
  },
  {
   "cell_type": "code",
   "execution_count": 24,
   "id": "0e599e02-8a65-4408-b9d5-945fe3927aaf",
   "metadata": {},
   "outputs": [
    {
     "name": "stdout",
     "output_type": "stream",
     "text": [
      "Prime numbers between 1 and 50 are:\n",
      "2\n",
      "3\n",
      "5\n",
      "7\n",
      "11\n",
      "13\n",
      "17\n",
      "19\n",
      "23\n",
      "29\n",
      "31\n",
      "37\n",
      "41\n",
      "43\n",
      "47\n"
     ]
    }
   ],
   "source": [
    "'''12. Create a program that prints the prime numbers in a given range using a `for` loop.'''\n",
    "\n",
    "#code\n",
    "lower = 1\n",
    "upper = 50\n",
    "print(\"Prime numbers between\", lower, \"and\", upper, \"are:\")\n",
    "for num in range(lower, upper + 1):\n",
    "   # all prime numbers are greater than 1\n",
    "   if num > 1:\n",
    "    for i in range(2, num):\n",
    "           if (num % i) == 0:\n",
    "            break\n",
    "    else:\n",
    "           print(num)"
   ]
  },
  {
   "cell_type": "code",
   "execution_count": 25,
   "id": "a844b319-89a3-47f6-a4ed-91d5752662fd",
   "metadata": {},
   "outputs": [
    {
     "name": "stdin",
     "output_type": "stream",
     "text": [
      "Enter the string : Pwskills\n"
     ]
    },
    {
     "name": "stdout",
     "output_type": "stream",
     "text": [
      "Total vowels are :1\n"
     ]
    }
   ],
   "source": [
    "'''13. Develop a program that counts the number of vowels in a string using a `for` loop.'''\n",
    "\n",
    "#code\n",
    "String = input('Enter the string :')\n",
    "count = 0\n",
    "#to check for less conditions\n",
    "#keep string in lowercase\n",
    "String = String.lower()\n",
    "for i in String:\n",
    "    if i == 'a' or i == 'e' or i == 'i' or i == 'o' or i == 'u':\n",
    "        #if True\n",
    "        count+=1\n",
    "#check if any vowel found\n",
    "if count == 0:\n",
    "    print('No vowels found')\n",
    "else:\n",
    "    print('Total vowels are :' + str(count))"
   ]
  },
  {
   "cell_type": "code",
   "execution_count": 27,
   "id": "d29eed7d-61c4-4c8e-9e9b-b58ce64a8800",
   "metadata": {},
   "outputs": [
    {
     "name": "stdout",
     "output_type": "stream",
     "text": [
      "504\n"
     ]
    }
   ],
   "source": [
    "'''14. Write a program to find the maximum element in a 2D list using a nested `for` loop.'''\n",
    "\n",
    "#code\n",
    "def prod(lis):\n",
    "    maxi = 0\n",
    "    for x in lis:\n",
    "        p = 1\n",
    "    for i in x:\n",
    "            p *= i\n",
    "            maxi = max(p, maxi)\n",
    "    return maxi\n",
    "# driver code\n",
    "l = [[1, 2, 3], [4, 5, 6], [7, 8, 9]]\n",
    "print(prod(l))"
   ]
  },
  {
   "cell_type": "code",
   "execution_count": 29,
   "id": "8b7b0e36-ae9b-4d41-afb3-a37ef1636a93",
   "metadata": {},
   "outputs": [
    {
     "name": "stdout",
     "output_type": "stream",
     "text": [
      "Original list:\n",
      "[10, 20, 10, 30, 10, 40, 10, 50]\n",
      "list after removing elements:\n",
      "[20, 30, 40, 50]\n"
     ]
    }
   ],
   "source": [
    "'''15. Create a program that removes all occurrences of a specific element from a list using a `for` loop.'''\n",
    "\n",
    "#code\n",
    "l4= [10, 20, 10, 30, 10, 40, 10, 50]\n",
    "n = 10\n",
    "print (\"Original list:\")\n",
    "print (l4)\n",
    "for x in l4:\n",
    "    if x == n:\n",
    "        l4.remove(x)\n",
    "print (\"list after removing elements:\")\n",
    "print (l4)"
   ]
  },
  {
   "cell_type": "code",
   "execution_count": 31,
   "id": "ae797228-47fb-4b77-8aab-718dd2e81d28",
   "metadata": {},
   "outputs": [
    {
     "name": "stdout",
     "output_type": "stream",
     "text": [
      " 1  2  3  4  5 \n",
      "\n",
      " 2  4  6  8 10 \n",
      "\n",
      " 3  6  9 12 15 \n",
      "\n",
      " 4  8 12 16 20 \n",
      "\n",
      " 5 10 15 20 25 \n",
      "\n"
     ]
    }
   ],
   "source": [
    "'''16. Develop a program that generates a multiplication table for numbers from 1 to 5 using a nested `for` loop.'''\n",
    "\n",
    "#code\n",
    "rows=5\n",
    "columns=5 \n",
    "for i in range(1,rows+1):\n",
    "    for j in range(1,columns+1):\n",
    "        c=i*j\n",
    "        print(\"{:2d} \".format(c),end='')\n",
    "    print(\"\\n\") "
   ]
  },
  {
   "cell_type": "code",
   "execution_count": 34,
   "id": "57622a3d-a2fc-4b77-ba5f-91616aaf22e2",
   "metadata": {},
   "outputs": [
    {
     "name": "stdout",
     "output_type": "stream",
     "text": [
      "[12.777777777777779]\n"
     ]
    }
   ],
   "source": [
    "'''17. Write a program that converts a list of Fahrenheit temperatures to Celsius using a `for` loop.'''\n",
    "\n",
    "#code\n",
    "fah = [55]\n",
    "cen = []\n",
    "for f in fah:\n",
    "    c = (f - 32) * 5 / 9\n",
    "    cen.append(c)\n",
    "print(cen)"
   ]
  },
  {
   "cell_type": "code",
   "execution_count": 36,
   "id": "0d2d101b-6afb-49e0-bede-e9c2ba510570",
   "metadata": {},
   "outputs": [
    {
     "name": "stdout",
     "output_type": "stream",
     "text": [
      "The common elements in the two lists are: \n",
      "[2, 8, 5]\n"
     ]
    }
   ],
   "source": [
    "'''18. Create a program to print the common elements from two lists using a `for` loop.'''\n",
    "\n",
    "#code\n",
    "def common_member(a, b):\n",
    "    result = [i for i in a if i in b]\n",
    "    return result\n",
    "a = [1, 2, 8, 4, 5]\n",
    "b = [5, 6, 2, 8, 9]\n",
    "print(\"The common elements in the two lists are: \")\n",
    "print(common_member(a, b))"
   ]
  },
  {
   "cell_type": "code",
   "execution_count": 37,
   "id": "7c718821-658b-4a15-b049-af636fd0e5d5",
   "metadata": {},
   "outputs": [
    {
     "name": "stdout",
     "output_type": "stream",
     "text": [
      "* * * * * \n",
      "* * * * \n",
      "* * * \n",
      "* * \n",
      "* \n"
     ]
    }
   ],
   "source": [
    "'''19. Develop a program that prints the pattern of right-angled triangles using a `for` loop. Use ‘*’ to draw the\n",
    "pattern'''\n",
    "\n",
    "#code\n",
    "for i in range(5,0,-1):\n",
    "    for j in range(i,0,-1):\n",
    "        print(\"*\", end=' ')\n",
    "    print()"
   ]
  },
  {
   "cell_type": "code",
   "execution_count": 42,
   "id": "2a4fce46-bfeb-44a0-9e3c-7daed962509d",
   "metadata": {},
   "outputs": [
    {
     "name": "stdout",
     "output_type": "stream",
     "text": [
      "GCD of 50 and 100 is: 50\n"
     ]
    }
   ],
   "source": [
    "'''20. Write a program to find the greatest common divisor (GCD) of two numbers using a `for` loop.'''\n",
    "#GCD Greatest Comman Factor\n",
    "\n",
    "#code\n",
    "x = 50\n",
    "y = 100\n",
    "if x > y:\n",
    "    x, y = y, x\n",
    "for i in range(1,x+1):\n",
    "    if x%i == 0 and y%i == 0:\n",
    "        gcd = i\n",
    "print(\"GCD of\", x, \"and\", y, \"is:\", gcd)"
   ]
  },
  {
   "cell_type": "code",
   "execution_count": null,
   "id": "feeffce1-7395-4a75-bcf5-ca9ab43c5f14",
   "metadata": {},
   "outputs": [],
   "source": []
  },
  {
   "cell_type": "code",
   "execution_count": null,
   "id": "7c2c04dc-2a26-4107-8094-9685e185b1c3",
   "metadata": {},
   "outputs": [],
   "source": [
    "# Advanced Level:"
   ]
  },
  {
   "cell_type": "code",
   "execution_count": 49,
   "id": "82591209-cf66-4bdd-bfa6-f86312f334ea",
   "metadata": {},
   "outputs": [
    {
     "name": "stdout",
     "output_type": "stream",
     "text": [
      "40\n"
     ]
    }
   ],
   "source": [
    "'''21. Create a program that calculates the sum of the digits of numbers in a list using a list comprehension.'''\n",
    "\n",
    "#code\n",
    "list1 = [12, 15, 3, 10]\n",
    "s=[i for i in list1]\n",
    "print(sum(s))"
   ]
  },
  {
   "cell_type": "code",
   "execution_count": 50,
   "id": "45803e06-7e35-47e3-a6d7-d8dd2d1fc023",
   "metadata": {},
   "outputs": [
    {
     "name": "stdout",
     "output_type": "stream",
     "text": [
      "[11, 13, 17, 19, 23, 29, 31, 37, 41, 43, 47, 53, 59, 61, 67, 71, 73, 79, 83, 89, 97]\n"
     ]
    }
   ],
   "source": [
    "'''22. Write a program to find the prime factors of a given number using a `for` loop and list comprehension.'''\n",
    "\n",
    "#code\n",
    "min = 10\n",
    "max = 100\n",
    "primes = [num for num in range(min,max) if 0 not in [num%i for i in range(2,num//2)]]\n",
    "print (primes)"
   ]
  },
  {
   "cell_type": "code",
   "execution_count": 1,
   "id": "3c25590b-46f7-452b-ab5e-f9e4806a0f56",
   "metadata": {},
   "outputs": [
    {
     "name": "stdout",
     "output_type": "stream",
     "text": [
      "The original list 1 is : [1, 3, 4, 4, 4, 3, 3, 2, 2, 1]\n",
      "The original list 2 is : [1, 3, 4, 6, 7]\n",
      "The original list 3 is : [4, 5, 4, 3, 6, 7, 8]\n",
      "List with Most unique values : [3, 4, 5, 6, 7, 8]\n"
     ]
    }
   ],
   "source": [
    "'''23. Develop a program that extracts unique elements from a list and stores them in a new list using a list\n",
    "comprehension.'''\n",
    "\n",
    "#code\n",
    "l1 = [1, 3, 4, 4, 4, 3, 3, 2, 2, 1]\n",
    "l2 = [1, 3, 4, 6, 7]\n",
    "l3 = [4, 5, 4, 3, 6, 7, 8]\n",
    " \n",
    "# printing original lists\n",
    "print(\"The original list 1 is : \" + str(l1))\n",
    "print(\"The original list 2 is : \" + str(l2))\n",
    "print(\"The original list 3 is : \" + str(l3))\n",
    " \n",
    "# List with most unique elements\n",
    "# using list comprehension + max() + set()\n",
    "res = [ele for ele in [set(l1), set(l2), set(l3)]\n",
    "      if len(ele) == max([len(sub) for sub in [set(l1), set(l2), set(l3)]])][0]\n",
    " # printing result\n",
    "print (\"List with Most unique values : \" + str(list(res)))"
   ]
  },
  {
   "cell_type": "code",
   "execution_count": 7,
   "id": "35f406cd-0b7f-49aa-8d18-a311b7ba3f6f",
   "metadata": {},
   "outputs": [
    {
     "name": "stdout",
     "output_type": "stream",
     "text": [
      "121\n",
      "141\n",
      "252\n",
      "\n",
      "Total palindrome nos. are 3\n",
      "\n",
      "111\n",
      "565\n",
      "787\n",
      "363\n",
      "\n",
      "Total palindrome nos. are 4\n",
      "\n"
     ]
    }
   ],
   "source": [
    "'''24. Create a program that generates a list of all palindromic numbers up to a specified limit using a list\n",
    "comprehension.'''\n",
    "#A palindrome is a number or letter that remains the same even if the number and letters are inverted.\n",
    "\n",
    "#code\n",
    "def palindromeNumbers(list_a):\n",
    " \n",
    "    c = 0\n",
    " \n",
    "    # loop till list is not empty\n",
    "    for i in list_a:\n",
    " \n",
    "        # Find reverse of current number\n",
    "        t = i\n",
    "        rev = 0\n",
    "        while t > 0:\n",
    "            rev = rev * 10 + t % 10\n",
    "            t = t // 10\n",
    " \n",
    "        # compare rev with the current number\n",
    "        if rev == i:\n",
    "            print(i)\n",
    "            c = c + 1\n",
    " \n",
    "    print()\n",
    "    print(\"Total palindrome nos. are\", c)\n",
    "    print()\n",
    "# Driver code\n",
    "def main():\n",
    " \n",
    "    list_a = [10, 121, 133, 155, 141, 252]\n",
    "    palindromeNumbers(list_a)\n",
    " \n",
    "    list_b = [111, 220, 784, 565, 498, 787, 363]\n",
    "    palindromeNumbers(list_b)\n",
    " \n",
    " \n",
    "if __name__ == \"__main__\":\n",
    "    main()  "
   ]
  },
  {
   "cell_type": "code",
   "execution_count": 8,
   "id": "3308bc88-89d1-47c7-a0e4-774ce8cc7aa4",
   "metadata": {},
   "outputs": [
    {
     "name": "stdout",
     "output_type": "stream",
     "text": [
      "[1, 2, 3, 4, 5, 6, 7]\n"
     ]
    }
   ],
   "source": [
    "'''25. Write a program to flatten a nested list using list comprehension.'''\n",
    "\n",
    "#code\n",
    "my_list = [[1], [2, 3], [4, 5, 6, 7]]\n",
    "\n",
    "flat_list = []\n",
    "for sublist in my_list:\n",
    "    for num in sublist:\n",
    "        flat_list.append(num)\n",
    "\n",
    "print(flat_list)"
   ]
  },
  {
   "cell_type": "code",
   "execution_count": 9,
   "id": "487960b2-5c36-4508-8e62-57b0f6bb145a",
   "metadata": {},
   "outputs": [
    {
     "name": "stdout",
     "output_type": "stream",
     "text": [
      "The original list is : [345, 893, 1948, 34, 2346]\n",
      "Odd digit sum : 36\n",
      "Even digit sum : 40\n"
     ]
    }
   ],
   "source": [
    "'''26. Develop a program that computes the sum of even and odd numbers in a list separately using list\n",
    "comprehension.'''\n",
    "\n",
    "#code\n",
    "l5 = [345, 893, 1948, 34, 2346] \n",
    "# printing original list\n",
    "print(\"The original list is : \" + str(l5)) \n",
    "odd_sum = 0\n",
    "even_sum = 0\n",
    "for sub in l5:\n",
    "# sum() used to get summation of even and odd elements\n",
    "    odd_sum += sum([int(ele) for ele in str(sub) if int(ele) % 2 == 1])\n",
    "    even_sum += sum([int(ele) for ele in str(sub) if int(ele) % 2 == 0])\n",
    "# printing result\n",
    "print(\"Odd digit sum : \" + str(odd_sum))\n",
    "print(\"Even digit sum : \" + str(even_sum))"
   ]
  },
  {
   "cell_type": "code",
   "execution_count": 19,
   "id": "03e582fe-8d6a-469d-a29e-1a32aa6c0854",
   "metadata": {},
   "outputs": [
    {
     "name": "stdout",
     "output_type": "stream",
     "text": [
      "[1, 9, 25, 49, 81]\n"
     ]
    }
   ],
   "source": [
    "'''27. Create a program that generates a list of squares of odd numbers between 1 and 10 using list\n",
    "comprehension.'''\n",
    "\n",
    "#code# create a list with 10 integer elements\n",
    "data=[1,2,3,4,5,6,7,8,9,10]\n",
    "# use list comprehension to get square\n",
    "# of odd numbers\n",
    "result = [i*i for i in data if i%2!=0]\n",
    "# display the result\n",
    "print(result)"
   ]
  },
  {
   "cell_type": "code",
   "execution_count": 20,
   "id": "1a03d8e6-023e-4927-ac5a-7b49b21b1d31",
   "metadata": {},
   "outputs": [
    {
     "name": "stdout",
     "output_type": "stream",
     "text": [
      "{1: 'python', 2: 'c', 3: 'c++'}\n"
     ]
    }
   ],
   "source": [
    "'''28. Write a program that combines two lists into a dictionary using list comprehension.'''\n",
    "\n",
    "#code\n",
    "index = [1, 2, 3]\n",
    "languages = ['python', 'c', 'c++']\n",
    "dictionary = {k: v for k, v in zip(index, languages)}\n",
    "print(dictionary)"
   ]
  },
  {
   "cell_type": "code",
   "execution_count": 22,
   "id": "dc9b475d-3ff7-4b77-ad5e-347ee240629e",
   "metadata": {},
   "outputs": [
    {
     "name": "stdout",
     "output_type": "stream",
     "text": [
      "The original string  is : No need to light a night-light on a light night like tonight\n",
      "The extracted words : ['o', 'e', 'e', 'o', 'i', 'a', 'i', 'i', 'o', 'a', 'i', 'i', 'i', 'e', 'o', 'i']\n"
     ]
    }
   ],
   "source": [
    "'''29. Develop a program that extracts the vowels from a string and stores them in a list using list comprehension.'''\n",
    "\n",
    "#code\n",
    "s = \"No need to light a night-light on a light night like tonight\"\n",
    "# Printing original list\n",
    "print(\"The original string  is : \" + str(s)) \n",
    "res = [word for word in s if word[0] in \"aeiou\"] \n",
    "# Printing result\n",
    "print(\"The extracted words : \" + str(res))"
   ]
  },
  {
   "cell_type": "code",
   "execution_count": 23,
   "id": "47e559f5-a41a-4a80-acb3-6da08ce87428",
   "metadata": {},
   "outputs": [
    {
     "name": "stdout",
     "output_type": "stream",
     "text": [
      "['88', '91', '86', '87', '87']\n"
     ]
    }
   ],
   "source": [
    "'''30. Create a program that removes all non-numeric characters from a list of strings using list comprehension.'''\n",
    "\n",
    "#code\n",
    "import re\n",
    "l6 = ['Judy 88 5', 'animal 91 5', 'Mo 86 5', 'Geno 87 6', 'exhaled 87 6']\n",
    "nums = [re.search('\\d+', lst).group(0) for lst in l6]\n",
    "print(nums)"
   ]
  },
  {
   "cell_type": "code",
   "execution_count": null,
   "id": "0bd3e93b-f9dd-4557-8304-f9cdbec9e04d",
   "metadata": {},
   "outputs": [],
   "source": []
  },
  {
   "cell_type": "code",
   "execution_count": null,
   "id": "c743faaf-7bfa-45fa-8db0-16b0acab650e",
   "metadata": {},
   "outputs": [],
   "source": [
    "# Challenge Level:"
   ]
  },
  {
   "cell_type": "code",
   "execution_count": 25,
   "id": "a5c4958b-56d4-4bd0-a598-3cc7a745f95a",
   "metadata": {},
   "outputs": [
    {
     "name": "stdout",
     "output_type": "stream",
     "text": [
      "Following are the prime numbers smaller\n",
      "than or equal to 30\n",
      "2\n",
      "3\n",
      "5\n",
      "7\n",
      "11\n",
      "13\n",
      "17\n",
      "19\n",
      "23\n",
      "29\n"
     ]
    }
   ],
   "source": [
    "'''31. Write a program to generate a list of prime numbers using the Sieve of Eratosthenes algorithm and list\n",
    "comprehension.'''\n",
    "\n",
    "\n",
    "'''Sieve of Eratosthenes is a method for finding all primes up to (and possibly including) a given natural. \n",
    "This method works well when is relatively small, allowing us to determine whether\n",
    "any natural number less than or equal to is prime or composite'''\n",
    "\n",
    "\n",
    "#code\n",
    "def SieveOfEratosthenes(num):\n",
    "    prime = [True for i in range(num+1)]\n",
    "# boolean array\n",
    "    p = 2\n",
    "    while (p * p <= num):\n",
    "# If prime[p] is not\n",
    "# changed, then it is a prime\n",
    "        if (prime[p] == True):\n",
    "# Updating all multiples of p\n",
    "            for i in range(p * p, num+1, p):\n",
    "                prime[i] = False\n",
    "        p += 1\n",
    "# Print all prime numbers\n",
    "    for p in range(2, num+1):\n",
    "        if prime[p]:\n",
    "            print(p)\n",
    "            # Driver code\n",
    "if __name__ == '__main__':\n",
    "    num = 30\n",
    "    print(\"Following are the prime numbers smaller\"),\n",
    "    print(\"than or equal to\", num)\n",
    "    SieveOfEratosthenes(num)"
   ]
  },
  {
   "cell_type": "code",
   "execution_count": 27,
   "id": "c662a257-b30d-4074-b0f8-5e3719a347c4",
   "metadata": {},
   "outputs": [
    {
     "name": "stdout",
     "output_type": "stream",
     "text": [
      "3 4 5\n",
      "8 6 10\n",
      "5 12 13\n",
      "15 8 17\n",
      "12 16 20\n"
     ]
    }
   ],
   "source": [
    "'''32. Create a program that generates a list of all Pythagorean triplets up to a specified limit using list\n",
    "comprehension.'''\n",
    "\n",
    "#code\n",
    "# triplets smaller than limit\n",
    "def pythagoreanTriplets(limits) :\n",
    "    c, m = 0, 2\n",
    "# Limiting c would limit\n",
    "# all a, b and c\n",
    "    while c < limits :\n",
    "# Now loop on n from 1 to m-1\n",
    "        for n in range(1, m) :\n",
    "            a = m * m - n * n\n",
    "            b = 2 * m * n\n",
    "            c = m * m + n * n\n",
    "# if c is greater than\n",
    "# limit then break it\n",
    "            if c > limits :\n",
    "                break\n",
    "            print(a, b, c)\n",
    "        m = m + 1\n",
    "# Driver Code\n",
    "if __name__ == '__main__' :\n",
    "    limit = 20\n",
    "    pythagoreanTriplets(limit)"
   ]
  },
  {
   "cell_type": "code",
   "execution_count": 28,
   "id": "e2984429-d48c-4d0e-95a0-c39a8216765c",
   "metadata": {},
   "outputs": [
    {
     "name": "stdout",
     "output_type": "stream",
     "text": [
      "[('b', 1), ('b', 4), ('b', 9), ('c', 1), ('c', 4), ('c', 9), ('d', 1), ('d', 4), ('d', 9)]\n"
     ]
    }
   ],
   "source": [
    "'''33. Develop a program that generates a list of all possible combinations of two lists using list comprehension.'''\n",
    "\n",
    "#code using nested loop\n",
    "list_1 = [\"b\", \"c\", \"d\"]\n",
    "list_2 = [1, 4, 9]\n",
    "unique_combinations = []\n",
    "for i in range(len(list_1)):\n",
    "    for j in range(len(list_2)):\n",
    "        unique_combinations.append((list_1[i], list_2[j]))\n",
    "print(unique_combinations)"
   ]
  },
  {
   "cell_type": "code",
   "execution_count": 34,
   "id": "3a36d506-60ba-489d-9285-e0dbd9e0c2bb",
   "metadata": {},
   "outputs": [
    {
     "name": "stdout",
     "output_type": "stream",
     "text": [
      "Mean / Average is: 3.3333333333333335\n",
      "Median is: 3.5\n",
      "Mode is : 5\n"
     ]
    }
   ],
   "source": [
    "'''34. Write a program that calculates the mean, median, and mode of a list of numbers using list\n",
    "comprehension.'''\n",
    "\n",
    "#code\n",
    "n_num = [1, 2, 3, 4, 5, 5]\n",
    "n = len(n_num)\n",
    "\n",
    "# for mean\n",
    "get_sum = sum(n_num)\n",
    "mean = get_sum / n\n",
    "print(\"Mean / Average is: \" + str(mean))\n",
    "\n",
    "#for median\n",
    "n_num.sort() \n",
    "if n % 2 == 0:\n",
    "    median1 = n_num[n//2]\n",
    "    median2 = n_num[n//2 - 1]\n",
    "    median = (median1 + median2)/2\n",
    "else:\n",
    "    median = n_num[n//2]\n",
    "print(\"Median is: \" + str(median))\n",
    "\n",
    "# for mode\n",
    "from collections import Counter\n",
    "data = Counter(n_num)\n",
    "get_mode = dict(data)\n",
    "mode = [k for k, v in get_mode.items() if v == max(list(data.values()))]\n",
    " \n",
    "if len(mode) == n:\n",
    "    get_mode = \"No mode found\"\n",
    "else:\n",
    "    get_mode = \"Mode is : \" + ', '.join(map(str, mode))\n",
    "     \n",
    "print(get_mode)"
   ]
  },
  {
   "cell_type": "code",
   "execution_count": 35,
   "id": "38a967ec-7e78-4b37-afb4-53235967ab23",
   "metadata": {},
   "outputs": [
    {
     "name": "stdout",
     "output_type": "stream",
     "text": [
      "      1 \n",
      "     1 1 \n",
      "    1 2 1 \n",
      "   1 3 3 1 \n",
      "  1 4 6 4 1 \n"
     ]
    }
   ],
   "source": [
    "'''35. Create a program that generates Pascal's triangle up to a specified number of rows using list\n",
    "comprehension.'''\n",
    "\n",
    "#code\n",
    "from math import factorial \n",
    "# input n\n",
    "n = 5\n",
    "for i in range(n):\n",
    "    for j in range(n-i+1):\n",
    "        # for left spacing\n",
    "        print(end=\" \") \n",
    "    for j in range(i+1):\n",
    "        # nCr = n!/((n-r)!*r!)\n",
    "        print(factorial(i)//(factorial(j)*factorial(i-j)), end=\" \") \n",
    "    # for new line\n",
    "    print()"
   ]
  },
  {
   "cell_type": "code",
   "execution_count": 39,
   "id": "6ffc095f-34e9-4d1a-92fe-5b6cc6d2bcae",
   "metadata": {},
   "outputs": [
    {
     "name": "stdout",
     "output_type": "stream",
     "text": [
      "Factorial of 1 is 1\n",
      "Factorial of 2 is 2\n",
      "Factorial of 3 is 12\n",
      "Factorial of 4 is 288\n",
      "Factorial of 5 is 34560\n"
     ]
    }
   ],
   "source": [
    "'''36. Develop a program that calculates the sum of the digits of a factorial of numbers from 1 to 5 using list\n",
    "comprehension.'''\n",
    "\n",
    "#code\n",
    "l8= [1, 2, 3, 4, 5]\n",
    "fact = 1\n",
    "for item in l8:\n",
    "    for number in range(1,item+1):\n",
    "        fact = fact * number\n",
    "    print (\"Factorial of\", item, \"is\", fact)\n",
    "    "
   ]
  },
  {
   "cell_type": "code",
   "execution_count": 40,
   "id": "8c8851da-29ba-408c-bd97-8d14de5e71f9",
   "metadata": {},
   "outputs": [
    {
     "name": "stdin",
     "output_type": "stream",
     "text": [
      "Enter sentence:  Near a ear, a nearer ear, a nearly eerie ear.\n"
     ]
    },
    {
     "name": "stdout",
     "output_type": "stream",
     "text": [
      "Longest word is:  nearer\n",
      "And its length is:  6\n"
     ]
    }
   ],
   "source": [
    "'''37. Write a program that finds the longest word in a sentence using list comprehension.'''\n",
    "\n",
    "#code\n",
    "sentence = input(\"Enter sentence: \")\n",
    "\n",
    "# Finding longest word\n",
    "longest = max(sentence.split(), key=len)\n",
    "\n",
    "# Displaying longest word\n",
    "print(\"Longest word is: \", longest)\n",
    "print(\"And its length is: \", len(longest))"
   ]
  },
  {
   "cell_type": "code",
   "execution_count": 42,
   "id": "24151194-08b5-4864-9c89-1dec9bfd2867",
   "metadata": {},
   "outputs": [],
   "source": [
    "'''38. Create a program that filters a list of strings to include only those with more than three vowels using list\n",
    "comprehension.'''\n",
    "\n",
    "#code\n",
    "import re\n",
    "fruits = [\"mango\", \"kiwi\", \"strawberry\", \"guava\", \"pineapple\", \"mandarin orange\"]\n",
    "results = [i for i in fruits if len(re.sub(r\"[^aeiouAEIOU]\", \"\", i)) > 2]"
   ]
  },
  {
   "cell_type": "code",
   "execution_count": 44,
   "id": "0e6eeec8-04f3-415e-9e8e-88da32b7948a",
   "metadata": {},
   "outputs": [
    {
     "data": {
      "text/plain": [
       "['guava', 'pineapple', 'mandarin orange']"
      ]
     },
     "execution_count": 44,
     "metadata": {},
     "output_type": "execute_result"
    }
   ],
   "source": [
    "results"
   ]
  },
  {
   "cell_type": "code",
   "execution_count": 54,
   "id": "c70b2440-a0fa-43cc-8fee-f6a574e2e501",
   "metadata": {},
   "outputs": [
    {
     "name": "stdout",
     "output_type": "stream",
     "text": [
      "500500\n"
     ]
    }
   ],
   "source": [
    "'''39. Develop a program that calculates the sum of the digits of numbers from 1 to 1000 using list\n",
    "comprehension.'''\n",
    "\n",
    "#code\n",
    "sum = 0 \n",
    "for i in range(1,1001): \n",
    "\tsum += i \n",
    "print(sum)"
   ]
  },
  {
   "cell_type": "code",
   "execution_count": 59,
   "id": "63c650a2-1336-43bc-b074-e350793c960d",
   "metadata": {},
   "outputs": [
    {
     "name": "stdout",
     "output_type": "stream",
     "text": [
      "101\n",
      "131\n",
      "151\n",
      "181\n",
      "191\n",
      "313\n",
      "353\n",
      "373\n",
      "383\n"
     ]
    }
   ],
   "source": [
    "'''40. Write a program that generates a list of prime palindromic numbers using list comprehension.'''\n",
    "\n",
    "#code\n",
    "a = 100\n",
    "b = 500\n",
    "a += 1   \n",
    "for i in range(a,b):\n",
    "    if(str(i) == str(i)[::-1]):\n",
    "        if(i>2):\n",
    "            for a in range(2,i):\n",
    "                y = True\n",
    "                if(i%a==0):\n",
    "                    y = False\n",
    "                    break\n",
    "            if y:\n",
    "                print(i)\n",
    "    "
   ]
  }
 ],
 "metadata": {
  "kernelspec": {
   "display_name": "Python 3 (ipykernel)",
   "language": "python",
   "name": "python3"
  },
  "language_info": {
   "codemirror_mode": {
    "name": "ipython",
    "version": 3
   },
   "file_extension": ".py",
   "mimetype": "text/x-python",
   "name": "python",
   "nbconvert_exporter": "python",
   "pygments_lexer": "ipython3",
   "version": "3.10.8"
  }
 },
 "nbformat": 4,
 "nbformat_minor": 5
}
